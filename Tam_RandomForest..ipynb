{
 "cells": [
  {
   "cell_type": "code",
   "execution_count": 4,
   "id": "0b5b2108-0aee-44a3-b6c1-ee1ee4cbdd92",
   "metadata": {},
   "outputs": [
    {
     "name": "stdout",
     "output_type": "stream",
     "text": [
      "Accuracy: 0.91\n",
      "Classification Report:\n",
      "              precision    recall  f1-score   support\n",
      "\n",
      "          AI       0.88      0.94      0.91        81\n",
      "       HUMAN       0.93      0.88      0.90        81\n",
      "\n",
      "    accuracy                           0.91       162\n",
      "   macro avg       0.91      0.91      0.91       162\n",
      "weighted avg       0.91      0.91      0.91       162\n",
      "\n",
      "Predictions saved to Tam_RandomForest(training).csv\n"
     ]
    }
   ],
   "source": [
    "import pandas as pd\n",
    "from sklearn.feature_extraction.text import TfidfVectorizer\n",
    "from sklearn.ensemble import RandomForestClassifier\n",
    "from sklearn.model_selection import train_test_split\n",
    "from sklearn.metrics import accuracy_score, classification_report\n",
    "\n",
    "# Load data\n",
    "data_path = r'C:\\Users\\HP\\Downloads\\tam_training_data_hum_ai.csv'  # Replace with your file path\n",
    "data = pd.read_csv(data_path)\n",
    "\n",
    "# Preprocessing\n",
    "X = data['DATA']  # Feature column\n",
    "y = data['LABEL']  # Target column\n",
    "\n",
    "# Convert text data to numerical features using TF-IDF vectorization\n",
    "tfidf_vectorizer = TfidfVectorizer(max_features=5000)  # Limit to 5000 features for efficiency\n",
    "X_tfidf = tfidf_vectorizer.fit_transform(X).toarray()\n",
    "\n",
    "# Split data into training and testing sets\n",
    "X_train, X_test, y_train, y_test = train_test_split(X_tfidf, y, test_size=0.2, random_state=42, stratify=y)\n",
    "\n",
    "# Random Forest Classifier\n",
    "clf = RandomForestClassifier(n_estimators=100, random_state=42)\n",
    "clf.fit(X_train, y_train)\n",
    "\n",
    "# Make predictions\n",
    "y_pred = clf.predict(X_test)\n",
    "\n",
    "# Calculate accuracy\n",
    "accuracy = accuracy_score(y_test, y_pred)\n",
    "print(f\"Accuracy: {accuracy:.2f}\")\n",
    "\n",
    "# Classification report\n",
    "print(\"Classification Report:\")\n",
    "print(classification_report(y_test, y_pred))\n",
    "\n",
    "# Add predictions to the original dataframe\n",
    "data['Predictions'] = clf.predict(tfidf_vectorizer.transform(data['DATA']).toarray())\n",
    "\n",
    "# Save the predictions to a new CSV file\n",
    "output_path = \"Tam_RandomForest(training).csv\"\n",
    "data.to_csv(output_path, index=False)\n",
    "print(f\"Predictions saved to {output_path}\")\n"
   ]
  },
  {
   "cell_type": "code",
   "execution_count": 6,
   "id": "ae1aac9b-4093-4f70-856d-130c8c1a27cb",
   "metadata": {},
   "outputs": [
    {
     "name": "stdout",
     "output_type": "stream",
     "text": [
      "Predictions saved to Tam_RandomForest.csv\n"
     ]
    }
   ],
   "source": [
    "import pandas as pd\n",
    "from sklearn.feature_extraction.text import TfidfVectorizer\n",
    "from sklearn.ensemble import RandomForestClassifier\n",
    "\n",
    "# Load training data for model training\n",
    "train_data_path = r'C:\\Users\\HP\\Downloads\\tam_training_data_hum_ai.csv' # Replace with your training data file path\n",
    "train_data = pd.read_csv(train_data_path)\n",
    "\n",
    "# Preprocessing training data\n",
    "X_train = train_data['DATA']  # Feature column\n",
    "y_train = train_data['LABEL']  # Target column\n",
    "\n",
    "# Convert text data to numerical features using TF-IDF vectorization\n",
    "tfidf_vectorizer = TfidfVectorizer(max_features=5000)  # Limit to 5000 features for efficiency\n",
    "X_train_tfidf = tfidf_vectorizer.fit_transform(X_train).toarray()\n",
    "\n",
    "# Train Random Forest Classifier\n",
    "clf = RandomForestClassifier(n_estimators=100, random_state=42)\n",
    "clf.fit(X_train_tfidf, y_train)\n",
    "\n",
    "# Load test data for predictions\n",
    "test_data_path = r\"C:\\Users\\HP\\Downloads\\tam_test_data_hum_ai.xlsx\"  # Path to your test data file\n",
    "test_data = pd.read_excel(test_data_path)\n",
    "\n",
    "# Preprocessing test data\n",
    "X_test = test_data['DATA']\n",
    "X_test_tfidf = tfidf_vectorizer.transform(X_test).toarray()\n",
    "\n",
    "# Make predictions on test data\n",
    "test_data['Predictions'] = clf.predict(X_test_tfidf)\n",
    "\n",
    "# Replace prediction labels with \"AI\" and \"HUMAN\"\n",
    "test_data['Predictions'] = test_data['Predictions'].replace({\"A\": \"AI\", \"HUMAN\": \"HUMAN\"})\n",
    "\n",
    "# Save the predictions to a new CSV file\n",
    "output_path = \"Tam_RandomForest.csv\"\n",
    "test_data.to_csv(output_path, index=False)\n",
    "print(f\"Predictions saved to {output_path}\")\n"
   ]
  },
  {
   "cell_type": "code",
   "execution_count": null,
   "id": "7e904c76-c789-477f-aab6-4466742fe91f",
   "metadata": {},
   "outputs": [],
   "source": []
  }
 ],
 "metadata": {
  "kernelspec": {
   "display_name": "Python 3 (ipykernel)",
   "language": "python",
   "name": "python3"
  },
  "language_info": {
   "codemirror_mode": {
    "name": "ipython",
    "version": 3
   },
   "file_extension": ".py",
   "mimetype": "text/x-python",
   "name": "python",
   "nbconvert_exporter": "python",
   "pygments_lexer": "ipython3",
   "version": "3.13.1"
  }
 },
 "nbformat": 4,
 "nbformat_minor": 5
}
