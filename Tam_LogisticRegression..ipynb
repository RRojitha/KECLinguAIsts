{
 "cells": [
  {
   "cell_type": "code",
   "execution_count": 1,
   "id": "d6f7332e-72cf-4c0f-bfc2-5cfeac60239d",
   "metadata": {},
   "outputs": [
    {
     "name": "stdout",
     "output_type": "stream",
     "text": [
      "Accuracy: 0.86\n",
      "Classification Report:\n",
      "              precision    recall  f1-score   support\n",
      "\n",
      "          AI       0.85      0.89      0.87        81\n",
      "       HUMAN       0.88      0.84      0.86        81\n",
      "\n",
      "    accuracy                           0.86       162\n",
      "   macro avg       0.87      0.86      0.86       162\n",
      "weighted avg       0.87      0.86      0.86       162\n",
      "\n",
      "Predictions saved to Tam_LogisticRegression(training).csv\n"
     ]
    }
   ],
   "source": [
    "import pandas as pd\n",
    "from sklearn.feature_extraction.text import TfidfVectorizer\n",
    "from sklearn.linear_model import LogisticRegression  # Import Logistic Regression\n",
    "from sklearn.model_selection import train_test_split\n",
    "from sklearn.metrics import accuracy_score, classification_report\n",
    "\n",
    "# Load data\n",
    "data_path = r'C:\\Users\\HP\\Downloads\\tam_training_data_hum_ai.csv'  # Replace with your file path\n",
    "data = pd.read_csv(data_path)\n",
    "\n",
    "# Preprocessing\n",
    "X = data['DATA']  # Feature column\n",
    "y = data['LABEL']  # Target column\n",
    "\n",
    "# Convert text data to numerical features using TF-IDF vectorization\n",
    "tfidf_vectorizer = TfidfVectorizer(max_features=5000)  # Limit to 5000 features for efficiency\n",
    "X_tfidf = tfidf_vectorizer.fit_transform(X).toarray()\n",
    "\n",
    "# Split data into training and testing sets\n",
    "X_train, X_test, y_train, y_test = train_test_split(X_tfidf, y, test_size=0.2, random_state=42, stratify=y)\n",
    "\n",
    "# Logistic Regression\n",
    "clf = LogisticRegression(max_iter=1000, random_state=42)  # Specify max_iter to ensure convergence\n",
    "clf.fit(X_train, y_train)\n",
    "\n",
    "# Make predictions\n",
    "y_pred = clf.predict(X_test)\n",
    "\n",
    "# Calculate accuracy\n",
    "accuracy = accuracy_score(y_test, y_pred)\n",
    "print(f\"Accuracy: {accuracy:.2f}\")\n",
    "\n",
    "# Classification report\n",
    "print(\"Classification Report:\")\n",
    "print(classification_report(y_test, y_pred))\n",
    "\n",
    "# Add predictions to the original dataframe\n",
    "data['Predictions'] = clf.predict(tfidf_vectorizer.transform(data['DATA']).toarray())\n",
    "\n",
    "# Save the predictions to a new CSV file\n",
    "output_path = \"Tam_LogisticRegression(training).csv\"\n",
    "data.to_csv(output_path, index=False)\n",
    "print(f\"Predictions saved to {output_path}\")\n"
   ]
  },
  {
   "cell_type": "code",
   "execution_count": 2,
   "id": "ab744c31-a743-4f9b-9a41-3fe98915ded8",
   "metadata": {},
   "outputs": [
    {
     "name": "stdout",
     "output_type": "stream",
     "text": [
      "Predictions saved to Tam_LogisticRegression.csv\n"
     ]
    }
   ],
   "source": [
    "import pandas as pd\n",
    "from sklearn.feature_extraction.text import TfidfVectorizer\n",
    "from sklearn.linear_model import LogisticRegression  # Import Logistic Regression\n",
    "\n",
    "# Load training data for model training\n",
    "train_data_path = r'C:\\Users\\HP\\Downloads\\tam_training_data_hum_ai.csv'  # Replace with your training data file path\n",
    "train_data = pd.read_csv(train_data_path)\n",
    "\n",
    "# Preprocessing training data\n",
    "X_train = train_data['DATA']  # Feature column\n",
    "y_train = train_data['LABEL']  # Target column\n",
    "\n",
    "# Convert text data to numerical features using TF-IDF vectorization\n",
    "tfidf_vectorizer = TfidfVectorizer(max_features=5000)  # Limit to 5000 features for efficiency\n",
    "X_train_tfidf = tfidf_vectorizer.fit_transform(X_train).toarray()\n",
    "\n",
    "# Train Logistic Regression Classifier\n",
    "clf = LogisticRegression(max_iter=1000, random_state=42)  # Specify max_iter to ensure convergence\n",
    "clf.fit(X_train_tfidf, y_train)\n",
    "\n",
    "# Load test data for predictions\n",
    "test_data_path = r\"C:\\Users\\HP\\Downloads\\tam_test_data_hum_ai.xlsx\"  # Path to your test data file\n",
    "test_data = pd.read_excel(test_data_path)\n",
    "\n",
    "# Preprocessing test data\n",
    "X_test = test_data['DATA']\n",
    "X_test_tfidf = tfidf_vectorizer.transform(X_test).toarray()\n",
    "\n",
    "# Make predictions on test data\n",
    "test_data['Predictions'] = clf.predict(X_test_tfidf)\n",
    "\n",
    "# Replace prediction labels with \"AI\" and \"HUMAN\"\n",
    "test_data['Predictions'] = test_data['Predictions'].replace({\"A\": \"AI\", \"HUMAN\": \"HUMAN\"})\n",
    "\n",
    "# Save the predictions to a new CSV file\n",
    "output_path = \"Tam_LogisticRegression.csv\"\n",
    "test_data.to_csv(output_path, index=False)\n",
    "print(f\"Predictions saved to {output_path}\")\n"
   ]
  },
  {
   "cell_type": "code",
   "execution_count": null,
   "id": "b2d7e647-7c83-4868-984a-42627831cba7",
   "metadata": {},
   "outputs": [],
   "source": []
  }
 ],
 "metadata": {
  "kernelspec": {
   "display_name": "Python 3 (ipykernel)",
   "language": "python",
   "name": "python3"
  },
  "language_info": {
   "codemirror_mode": {
    "name": "ipython",
    "version": 3
   },
   "file_extension": ".py",
   "mimetype": "text/x-python",
   "name": "python",
   "nbconvert_exporter": "python",
   "pygments_lexer": "ipython3",
   "version": "3.13.1"
  }
 },
 "nbformat": 4,
 "nbformat_minor": 5
}
